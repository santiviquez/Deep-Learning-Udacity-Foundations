{
 "cells": [
  {
   "cell_type": "markdown",
   "metadata": {
    "collapsed": true
   },
   "source": [
    "# Language Translation\n",
    "In this project, you’re going to take a peek into the realm of neural network machine translation.  You’ll be training a sequence to sequence model on a dataset of English and French sentences that can translate new sentences from English to French.\n",
    "## Get the Data\n",
    "Since translating the whole language of English to French will take lots of time to train, we have provided you with a small portion of the English corpus."
   ]
  },
  {
   "cell_type": "code",
   "execution_count": 1,
   "metadata": {
    "collapsed": true
   },
   "outputs": [],
   "source": [
    "\"\"\"\n",
    "DON'T MODIFY ANYTHING IN THIS CELL\n",
    "\"\"\"\n",
    "import helper\n",
    "import problem_unittests as tests\n",
    "\n",
    "source_path = 'data/small_vocab_en'\n",
    "target_path = 'data/small_vocab_fr'\n",
    "source_text = helper.load_data(source_path)\n",
    "target_text = helper.load_data(target_path)"
   ]
  },
  {
   "cell_type": "markdown",
   "metadata": {},
   "source": [
    "## Explore the Data\n",
    "Play around with view_sentence_range to view different parts of the data."
   ]
  },
  {
   "cell_type": "code",
   "execution_count": 13,
   "metadata": {},
   "outputs": [
    {
     "name": "stdout",
     "output_type": "stream",
     "text": [
      "Dataset Stats\n",
      "Roughly the number of unique words: 227\n",
      "Number of sentences: 137861\n",
      "Average number of words in a sentence: 13.225277634719028\n",
      "\n",
      "English sentences 0 to 10:\n",
      "new jersey is sometimes quiet during autumn , and it is snowy in april .\n",
      "the united states is usually chilly during july , and it is usually freezing in november .\n",
      "california is usually quiet during march , and it is usually hot in june .\n",
      "the united states is sometimes mild during june , and it is cold in september .\n",
      "your least liked fruit is the grape , but my least liked is the apple .\n",
      "his favorite fruit is the orange , but my favorite is the grape .\n",
      "paris is relaxing during december , but it is usually chilly in july .\n",
      "new jersey is busy during spring , and it is never hot in march .\n",
      "our least liked fruit is the lemon , but my least liked is the grape .\n",
      "the united states is sometimes busy during january , and it is sometimes warm in november .\n",
      "\n",
      "French sentences 0 to 10:\n",
      "new jersey est parfois calme pendant l' automne , et il est neigeux en avril .\n",
      "les états-unis est généralement froid en juillet , et il gèle habituellement en novembre .\n",
      "california est généralement calme en mars , et il est généralement chaud en juin .\n",
      "les états-unis est parfois légère en juin , et il fait froid en septembre .\n",
      "votre moins aimé fruit est le raisin , mais mon moins aimé est la pomme .\n",
      "son fruit préféré est l'orange , mais mon préféré est le raisin .\n",
      "paris est relaxant en décembre , mais il est généralement froid en juillet .\n",
      "new jersey est occupé au printemps , et il est jamais chaude en mars .\n",
      "notre fruit est moins aimé le citron , mais mon moins aimé est le raisin .\n",
      "les états-unis est parfois occupé en janvier , et il est parfois chaud en novembre .\n"
     ]
    }
   ],
   "source": [
    "view_sentence_range = (0, 10)\n",
    "\n",
    "\"\"\"\n",
    "DON'T MODIFY ANYTHING IN THIS CELL\n",
    "\"\"\"\n",
    "import numpy as np\n",
    "\n",
    "print('Dataset Stats')\n",
    "print('Roughly the number of unique words: {}'.format(len({word: None for word in source_text.split()})))\n",
    "\n",
    "sentences = source_text.split('\\n')\n",
    "word_counts = [len(sentence.split()) for sentence in sentences]\n",
    "print('Number of sentences: {}'.format(len(sentences)))\n",
    "print('Average number of words in a sentence: {}'.format(np.average(word_counts)))\n",
    "\n",
    "print()\n",
    "print('English sentences {} to {}:'.format(*view_sentence_range))\n",
    "print('\\n'.join(source_text.split('\\n')[view_sentence_range[0]:view_sentence_range[1]]))\n",
    "print()\n",
    "print('French sentences {} to {}:'.format(*view_sentence_range))\n",
    "print('\\n'.join(target_text.split('\\n')[view_sentence_range[0]:view_sentence_range[1]]))"
   ]
  },
  {
   "cell_type": "markdown",
   "metadata": {},
   "source": [
    "## Implement Preprocessing Function\n",
    "### Text to Word Ids\n",
    "As you did with other RNNs, you must turn the text into a number so the computer can understand it. In the function `text_to_ids()`, you'll turn `source_text` and `target_text` from words to ids.  However, you need to add the `<EOS>` word id at the end of `target_text`.  This will help the neural network predict when the sentence should end.\n",
    "\n",
    "You can get the `<EOS>` word id by doing:\n",
    "```python\n",
    "target_vocab_to_int['<EOS>']\n",
    "```\n",
    "You can get other word ids using `source_vocab_to_int` and `target_vocab_to_int`."
   ]
  },
  {
   "cell_type": "code",
   "execution_count": 27,
   "metadata": {},
   "outputs": [
    {
     "name": "stdout",
     "output_type": "stream",
     "text": [
      "Tests Passed\n"
     ]
    }
   ],
   "source": [
    "def text_to_ids(source_text, target_text, source_vocab_to_int, target_vocab_to_int):\n",
    "    \"\"\"\n",
    "    Convert source and target text to proper word ids\n",
    "    :param source_text: String that contains all the source text.\n",
    "    :param target_text: String that contains all the target text.\n",
    "    :param source_vocab_to_int: Dictionary to go from the source words to an id\n",
    "    :param target_vocab_to_int: Dictionary to go from the target words to an id\n",
    "    :return: A tuple of lists (source_id_text, target_id_text)      sentence = sentence.lower()\n",
    "    words = sentence.split(\" \")\n",
    "    word_ids = []\n",
    "    for ii in range(len(words)):\n",
    "        integer = vocab_to_int.get(words[ii])\n",
    "        if integer == None:\n",
    "            integer = 2\n",
    "        word_ids.append(integer)\n",
    "    return word_ids  sentence = sentence.lower()\n",
    "    words = sentence.split(\" \")\n",
    "    word_ids = []\n",
    "    for ii in range(len(words)):\n",
    "        integer = vocab_to_int.get(words[ii])\n",
    "        if integer == None:\n",
    "            integer = 2\n",
    "        word_ids.append(integer)\n",
    "    return word_ids\n",
    "    \"\"\"\n",
    "    # TODO: Implement Function\n",
    "    source_id_text = [[source_vocab_to_int[word] for word in sentence.split()] \n",
    "                      for sentence in source_text.split(\"\\n\")]\n",
    "    target_id_text = [[target_vocab_to_int[word] for word in sentence.split()] + [target_vocab_to_int['<EOS>']] \n",
    "                      for sentence in target_text.split(\"\\n\")]\n",
    "    return source_id_text, target_id_text\n",
    "\n",
    "\"\"\"\n",
    "DON'T MODIFY ANYTHING IN THIS CELL THAT IS BELOW THIS LINE\n",
    "\"\"\"\n",
    "tests.test_text_to_ids(text_to_ids)"
   ]
  },
  {
   "cell_type": "markdown",
   "metadata": {},
   "source": [
    "### Preprocess all the data and save it\n",
    "Running the code cell below will preprocess all the data and save it to file."
   ]
  },
  {
   "cell_type": "code",
   "execution_count": 28,
   "metadata": {
    "collapsed": true
   },
   "outputs": [],
   "source": [
    "\"\"\"\n",
    "DON'T MODIFY ANYTHING IN THIS CELL\n",
    "\"\"\"\n",
    "helper.preprocess_and_save_data(source_path, target_path, text_to_ids)"
   ]
  },
  {
   "cell_type": "markdown",
   "metadata": {},
   "source": [
    "# Check Point\n",
    "This is your first checkpoint. If you ever decide to come back to this notebook or have to restart the notebook, you can start from here. The preprocessed data has been saved to disk."
   ]
  },
  {
   "cell_type": "code",
   "execution_count": 1,
   "metadata": {
    "collapsed": true
   },
   "outputs": [],
   "source": [
    "\"\"\"\n",
    "DON'T MODIFY ANYTHING IN THIS CELL\n",
    "\"\"\"\n",
    "import numpy as np\n",
    "import helper\n",
    "import problem_unittests as tests\n",
    "\n",
    "(source_int_text, target_int_text), (source_vocab_to_int, target_vocab_to_int), _ = helper.load_preprocess()"
   ]
  },
  {
   "cell_type": "markdown",
   "metadata": {},
   "source": [
    "### Check the Version of TensorFlow and Access to GPU\n",
    "This will check to make sure you have the correct version of TensorFlow and access to a GPU"
   ]
  },
  {
   "cell_type": "code",
   "execution_count": 2,
   "metadata": {},
   "outputs": [
    {
     "name": "stdout",
     "output_type": "stream",
     "text": [
      "TensorFlow Version: 1.1.0\n"
     ]
    },
    {
     "name": "stderr",
     "output_type": "stream",
     "text": [
      "/home/aleph/anaconda3/envs/tf/lib/python3.6/site-packages/ipykernel_launcher.py:15: UserWarning: No GPU found. Please use a GPU to train your neural network.\n",
      "  from ipykernel import kernelapp as app\n"
     ]
    }
   ],
   "source": [
    "\"\"\"\n",
    "DON'T MODIFY ANYTHING IN THIS CELL\n",
    "\"\"\"\n",
    "from distutils.version import LooseVersion\n",
    "import warnings\n",
    "import tensorflow as tf\n",
    "from tensorflow.python.layers.core import Dense\n",
    "\n",
    "# Check TensorFlow Version\n",
    "assert LooseVersion(tf.__version__) >= LooseVersion('1.1'), 'Please use TensorFlow version 1.1 or newer'\n",
    "print('TensorFlow Version: {}'.format(tf.__version__))\n",
    "\n",
    "# Check for a GPU\n",
    "if not tf.test.gpu_device_name():\n",
    "    warnings.warn('No GPU found. Please use a GPU to train your neural network.')\n",
    "else:\n",
    "    print('Default GPU Device: {}'.format(tf.test.gpu_device_name()))"
   ]
  },
  {
   "cell_type": "markdown",
   "metadata": {},
   "source": [
    "## Build the Neural Network\n",
    "You'll build the components necessary to build a Sequence-to-Sequence model by implementing the following functions below:\n",
    "- `model_inputs`\n",
    "- `process_decoder_input`\n",
    "- `encoding_layer`\n",
    "- `decoding_layer_train`\n",
    "- `decoding_layer_infer`\n",
    "- `decoding_layer`\n",
    "- `seq2seq_model`\n",
    "\n",
    "### Input\n",
    "Implement the `model_inputs()` function to create TF Placeholders for the Neural Network. It should create the following placeholders:\n",
    "\n",
    "- Input text placeholder named \"input\" using the TF Placeholder name parameter with rank 2.\n",
    "- Targets placeholder with rank 2.\n",
    "- Learning rate placeholder with rank 0.\n",
    "- Keep probability placeholder named \"keep_prob\" using the TF Placeholder name parameter with rank 0.\n",
    "- Target sequence length placeholder named \"target_sequence_length\" with rank 1\n",
    "- Max target sequence length tensor named \"max_target_len\" getting its value from applying tf.reduce_max on the target_sequence_length placeholder. Rank 0.\n",
    "- Source sequence length placeholder named \"source_sequence_length\" with rank 1\n",
    "\n",
    "Return the placeholders in the following the tuple (input, targets, learning rate, keep probability, target sequence length, max target sequence length, source sequence length)"
   ]
  },
  {
   "cell_type": "code",
   "execution_count": 3,
   "metadata": {},
   "outputs": [
    {
     "name": "stdout",
     "output_type": "stream",
     "text": [
      "Tests Passed\n"
     ]
    }
   ],
   "source": [
    "def model_inputs():\n",
    "    \"\"\"\n",
    "    Create TF Placeholders for input, targets, learning rate, and lengths of source and target sequences.\n",
    "    :return: Tuple (input, targets, learning rate, keep probability, target sequence length,\n",
    "    max target sequence length, source sequence length)\n",
    "    \"\"\"\n",
    "    # TODO: Implement Function\n",
    "    input = tf.placeholder(tf.int32, [None, None], name=\"input\")\n",
    "    targets = tf.placeholder(tf.int32, [None, None])\n",
    "    learning_rate = tf.placeholder(tf.float32, None)\n",
    "    keep_prob = tf.placeholder(tf.float32, None,name = \"keep_prob\")\n",
    "    target_sequence_length = tf.placeholder(tf.int32, [None], name = \"target_sequence_length\")\n",
    "    max_target_len = tf.reduce_max(target_sequence_length)\n",
    "    source_sequence_length = tf.placeholder(tf.float32, [None], name = \"source_sequence_length\")\n",
    "    \n",
    "    return input, targets, learning_rate, keep_prob, target_sequence_length, max_target_len, source_sequence_length\n",
    "\n",
    "\n",
    "\"\"\"\n",
    "DON'T MODIFY ANYTHING IN THIS CELL THAT IS BELOW THIS LINE\n",
    "\"\"\"\n",
    "tests.test_model_inputs(model_inputs)"
   ]
  },
  {
   "cell_type": "markdown",
   "metadata": {},
   "source": [
    "### Process Decoder Input\n",
    "Implement `process_decoder_input` by removing the last word id from each batch in `target_data` and concat the GO ID to the begining of each batch."
   ]
  },
  {
   "cell_type": "code",
   "execution_count": 4,
   "metadata": {},
   "outputs": [
    {
     "name": "stdout",
     "output_type": "stream",
     "text": [
      "Tests Passed\n"
     ]
    }
   ],
   "source": [
    "def process_decoder_input(target_data, target_vocab_to_int, batch_size):\n",
    "    \"\"\"\n",
    "    Preprocess target data for encoding\n",
    "    :param target_data: Target Placehoder\n",
    "    :param target_vocab_to_int: Dictionary to go from the target words to an id\n",
    "    :param batch_size: Batch Size\n",
    "    :return: Preprocessed target data\n",
    "    \"\"\"\n",
    "    # TODO: Implement Function\n",
    "    ending = tf.strided_slice(target_data, [0, 0], [batch_size, -1], [1, 1])\n",
    "    preprocessed_target_data = tf.concat([tf.fill([batch_size, 1], target_vocab_to_int['<GO>']), ending], 1)\n",
    "    return preprocessed_target_data\n",
    "\n",
    "\"\"\"\n",
    "DON'T MODIFY ANYTHING IN THIS CELL THAT IS BELOW THIS LINE\n",
    "\"\"\"\n",
    "tests.test_process_encoding_input(process_decoder_input)"
   ]
  },
  {
   "cell_type": "markdown",
   "metadata": {},
   "source": [
    "### Encoding\n",
    "Implement `encoding_layer()` to create a Encoder RNN layer:\n",
    " * Embed the encoder input using [`tf.contrib.layers.embed_sequence`](https://www.tensorflow.org/api_docs/python/tf/contrib/layers/embed_sequence)\n",
    " * Construct a [stacked](https://github.com/tensorflow/tensorflow/blob/6947f65a374ebf29e74bb71e36fd82760056d82c/tensorflow/docs_src/tutorials/recurrent.md#stacking-multiple-lstms) [`tf.contrib.rnn.LSTMCell`](https://www.tensorflow.org/api_docs/python/tf/contrib/rnn/LSTMCell) wrapped in a [`tf.contrib.rnn.DropoutWrapper`](https://www.tensorflow.org/api_docs/python/tf/contrib/rnn/DropoutWrapper)\n",
    " * Pass cell and embedded input to [`tf.nn.dynamic_rnn()`](https://www.tensorflow.org/api_docs/python/tf/nn/dynamic_rnn)"
   ]
  },
  {
   "cell_type": "code",
   "execution_count": 5,
   "metadata": {
    "scrolled": false
   },
   "outputs": [
    {
     "name": "stdout",
     "output_type": "stream",
     "text": [
      "Tests Passed\n"
     ]
    }
   ],
   "source": [
    "from imp import reload\n",
    "reload(tests)\n",
    "\n",
    "def encoding_layer(rnn_inputs, rnn_size, num_layers, keep_prob, \n",
    "                   source_sequence_length, source_vocab_size, \n",
    "                   encoding_embedding_size):\n",
    "    \"\"\"\n",
    "    Create encoding layer\n",
    "    :param rnn_inputs: Inputs for the RNN\n",
    "    :param rnn_size: RNN Size\n",
    "    :param num_layers: Number of layers\n",
    "    :param keep_prob: Dropout keep probability\n",
    "    :param source_sequence_length: a list of the lengths of each sequence in the batch\n",
    "    :param source_vocab_size: vocabulary size of source data\n",
    "    :param encoding_embedding_size: embedding size of source data\n",
    "    :return: tuple (RNN output, RNN state)\n",
    "    \"\"\"\n",
    "    # TODO: Implement Function\n",
    "    \n",
    "    inputs =tf.contrib.layers.embed_sequence(rnn_inputs,source_vocab_size,encoding_embedding_size)\n",
    "    cell = tf.contrib.rnn.BasicLSTMCell(rnn_size)\n",
    "    dropout = tf.contrib.rnn.DropoutWrapper(cell,output_keep_prob=keep_prob)\n",
    "    cell = tf.contrib.rnn.MultiRNNCell([tf.contrib.rnn.BasicLSTMCell(rnn_size) for _ in range(num_layers)])\n",
    "    output, state = tf.nn.dynamic_rnn(cell,inputs,dtype=tf.float32)\n",
    "        \n",
    "    return output, state\n",
    "\n",
    "\"\"\"\n",
    "DON'T MODIFY ANYTHING IN THIS CELL THAT IS BELOW THIS LINE\n",
    "\"\"\"\n",
    "tests.test_encoding_layer(encoding_layer)"
   ]
  },
  {
   "cell_type": "markdown",
   "metadata": {},
   "source": [
    "### Decoding - Training\n",
    "Create a training decoding layer:\n",
    "* Create a [`tf.contrib.seq2seq.TrainingHelper`](https://www.tensorflow.org/api_docs/python/tf/contrib/seq2seq/TrainingHelper) \n",
    "* Create a [`tf.contrib.seq2seq.BasicDecoder`](https://www.tensorflow.org/api_docs/python/tf/contrib/seq2seq/BasicDecoder)\n",
    "* Obtain the decoder outputs from [`tf.contrib.seq2seq.dynamic_decode`](https://www.tensorflow.org/api_docs/python/tf/contrib/seq2seq/dynamic_decode)"
   ]
  },
  {
   "cell_type": "code",
   "execution_count": 6,
   "metadata": {},
   "outputs": [
    {
     "name": "stdout",
     "output_type": "stream",
     "text": [
      "Tests Passed\n"
     ]
    }
   ],
   "source": [
    "\n",
    "def decoding_layer_train(encoder_state, dec_cell, dec_embed_input, \n",
    "                         target_sequence_length, max_summary_length, \n",
    "                         output_layer, keep_prob):\n",
    "    \"\"\"\n",
    "    Create a decoding layer for training\n",
    "    :param encoder_state: Encoder State\n",
    "    :param dec_cell: Decoder RNN Cell\n",
    "    :param dec_embed_input: Decoder embedded input\n",
    "    :param target_sequence_length: The lengths of each sequence in the target batch\n",
    "    :param max_summary_length: The length of the longest sequence in the batch\n",
    "    :param output_layer: Function to apply the output layer\n",
    "    :param keep_prob: Dropout keep probability\n",
    "    :return: BasicDecoderOutput containing training logits and sample_id\n",
    "    \"\"\"\n",
    "    # TODO: Implement Function\n",
    "    train_helper = tf.contrib.seq2seq.TrainingHelper(dec_embed_input, target_sequence_length, time_major=False)\n",
    "    train_decoder = tf.contrib.seq2seq.BasicDecoder(dec_cell, train_helper, encoder_state, output_layer)\n",
    "    train_decoder_output, _ = tf.contrib.seq2seq.dynamic_decode(train_decoder, impute_finished=True, maximum_iterations=max_summary_length)\n",
    "    return train_decoder_output\n",
    "\n",
    "\"\"\"\n",
    "DON'T MODIFY ANYTHING IN THIS CELL THAT IS BELOW THIS LINE\n",
    "\"\"\"\n",
    "tests.test_decoding_layer_train(decoding_layer_train)"
   ]
  },
  {
   "cell_type": "markdown",
   "metadata": {},
   "source": [
    "### Decoding - Inference\n",
    "Create inference decoder:\n",
    "* Create a [`tf.contrib.seq2seq.GreedyEmbeddingHelper`](https://www.tensorflow.org/api_docs/python/tf/contrib/seq2seq/GreedyEmbeddingHelper)\n",
    "* Create a [`tf.contrib.seq2seq.BasicDecoder`](https://www.tensorflow.org/api_docs/python/tf/contrib/seq2seq/BasicDecoder)\n",
    "* Obtain the decoder outputs from [`tf.contrib.seq2seq.dynamic_decode`](https://www.tensorflow.org/api_docs/python/tf/contrib/seq2seq/dynamic_decode)"
   ]
  },
  {
   "cell_type": "code",
   "execution_count": 7,
   "metadata": {
    "scrolled": true
   },
   "outputs": [
    {
     "name": "stdout",
     "output_type": "stream",
     "text": [
      "Tests Passed\n"
     ]
    }
   ],
   "source": [
    "def decoding_layer_infer(encoder_state, dec_cell, dec_embeddings, start_of_sequence_id,\n",
    "                         end_of_sequence_id, max_target_sequence_length,\n",
    "                         vocab_size, output_layer, batch_size, keep_prob):\n",
    "    \"\"\"\n",
    "    Create a decoding layer for inference\n",
    "    :param encoder_state: Encoder state\n",
    "    :param dec_cell: Decoder RNN Cell\n",
    "    :param dec_embeddings: Decoder embeddings\n",
    "    :param start_of_sequence_id: GO ID\n",
    "    :param end_of_sequence_id: EOS Id\n",
    "    :param max_target_sequence_length: Maximum length of target sequences\n",
    "    :param vocab_size: Size of decoder/target vocabulary\n",
    "    :param decoding_scope: TenorFlow Variable Scope for decoding\n",
    "    :param output_layer: Function to apply the output layer\n",
    "    :param batch_size: Batch size\n",
    "    :param keep_prob: Dropout keep probability\n",
    "    :return: BasicDecoderOutput containing inference logits and sample_id\n",
    "    \"\"\"\n",
    "    # TODO: Implement Function\n",
    "    start_token = tf.tile(tf.constant([start_of_sequence_id], tf.int32), [batch_size], name = \"start_tokens\")\n",
    "    embeding_helper = tf.contrib.seq2seq.GreedyEmbeddingHelper(dec_embeddings, start_token, end_of_sequence_id)\n",
    "    embeding_decoder = tf.contrib.seq2seq.BasicDecoder(dec_cell, embeding_helper, encoder_state, output_layer)\n",
    "    emdeding_decoder_output, _ = tf.contrib.seq2seq.dynamic_decode(embeding_decoder, impute_finished=True, maximum_iterations=max_target_sequence_length)\n",
    "    return emdeding_decoder_output\n",
    "\n",
    "\n",
    "\n",
    "\n",
    "\"\"\"\n",
    "DON'T MODIFY ANYTHING IN THIS CELL THAT IS BELOW THIS LINE\n",
    "\"\"\"\n",
    "tests.test_decoding_layer_infer(decoding_layer_infer)"
   ]
  },
  {
   "cell_type": "markdown",
   "metadata": {},
   "source": [
    "### Build the Decoding Layer\n",
    "Implement `decoding_layer()` to create a Decoder RNN layer.\n",
    "\n",
    "* Embed the target sequences\n",
    "* Construct the decoder LSTM cell (just like you constructed the encoder cell above)\n",
    "* Create an output layer to map the outputs of the decoder to the elements of our vocabulary\n",
    "* Use the your `decoding_layer_train(encoder_state, dec_cell, dec_embed_input, target_sequence_length, max_target_sequence_length, output_layer, keep_prob)` function to get the training logits.\n",
    "* Use your `decoding_layer_infer(encoder_state, dec_cell, dec_embeddings, start_of_sequence_id, end_of_sequence_id, max_target_sequence_length, vocab_size, output_layer, batch_size, keep_prob)` function to get the inference logits.\n",
    "\n",
    "Note: You'll need to use [tf.variable_scope](https://www.tensorflow.org/api_docs/python/tf/variable_scope) to share variables between training and inference."
   ]
  },
  {
   "cell_type": "code",
   "execution_count": 8,
   "metadata": {},
   "outputs": [
    {
     "name": "stdout",
     "output_type": "stream",
     "text": [
      "Tests Passed\n"
     ]
    }
   ],
   "source": [
    "def decoding_layer(dec_input, encoder_state,\n",
    "                   target_sequence_length, max_target_sequence_length,\n",
    "                   rnn_size,\n",
    "                   num_layers, target_vocab_to_int, target_vocab_size,\n",
    "                   batch_size, keep_prob, decoding_embedding_size):\n",
    "    \"\"\"\n",
    "    Create decoding layer\n",
    "    :param dec_input: Decoder input\n",
    "    :param encoder_state: Encoder state\n",
    "    :param target_sequence_length: The lengths of each sequence in the target batch\n",
    "    :param max_target_sequence_length: Maximum length of target sequences\n",
    "    :param rnn_size: RNN Size\n",
    "    :param num_layers: Number of layers\n",
    "    :param target_vocab_to_int: Dictionary to go from the target words to an id\n",
    "    :param target_vocab_size: Size of target vocabulary\n",
    "    :param batch_size: The size of the batch\n",
    "    :param keep_prob: Dropout keep probability\n",
    "    :param decoding_embedding_size: Decoding embedding size\n",
    "    :return: Tuple of (Training BasicDecoderOutput, Inference BasicDecoderOutput)\n",
    "    \"\"\"\n",
    "    # TODO: Implement Function\n",
    "    start_of_sequence_id = target_vocab_to_int['<GO>']\n",
    "    end_of_sequence_id = target_vocab_to_int['<EOS>']\n",
    "    dec_embeddings = tf.Variable(tf.random_uniform([target_vocab_size, decoding_embedding_size]), dtype=tf.float32)\n",
    "\n",
    "    encoder_input = tf.nn.embedding_lookup(dec_embeddings, dec_input)\n",
    "    def lstm_cell():\n",
    "        return tf.contrib.rnn.BasicLSTMCell(rnn_size)\n",
    "    dec_stacked_lstm = tf.contrib.rnn.DropoutWrapper(tf.contrib.rnn.MultiRNNCell(\n",
    "    [lstm_cell() for _ in range(num_layers)]))\n",
    "    \n",
    "    output_fn = Dense(target_vocab_size,\n",
    "                       kernel_initializer = tf.truncated_normal_initializer(mean = 0.0, stddev=0.1))\n",
    "    with tf.variable_scope(\"decode\") as decoding_scope:\n",
    "       \n",
    "    \n",
    "\n",
    "        training_logits = decoding_layer_train(encoder_state, dec_stacked_lstm, encoder_input,\n",
    "                                                target_sequence_length, max_target_sequence_length, \n",
    "                                                output_fn, keep_prob)\n",
    "    \n",
    "        decoding_scope.reuse_variables()\n",
    "        inference_logits = decoding_layer_infer(encoder_state, dec_stacked_lstm, \n",
    "                                                    dec_embeddings, start_of_sequence_id, end_of_sequence_id,\n",
    "                                                    max_target_sequence_length, target_vocab_size, output_fn,\n",
    "                                                    batch_size, keep_prob)\n",
    "        \n",
    "        return (training_logits, inference_logits)\n",
    "\n",
    "\"\"\"\n",
    "DON'T MODIFY ANYTHING IN THIS CELL THAT IS BELOW THIS LINE\n",
    "\"\"\"\n",
    "tests.test_decoding_layer(decoding_layer)"
   ]
  },
  {
   "cell_type": "markdown",
   "metadata": {},
   "source": [
    "### Build the Neural Network\n",
    "Apply the functions you implemented above to:\n",
    "\n",
    "- Encode the input using your `encoding_layer(rnn_inputs, rnn_size, num_layers, keep_prob,  source_sequence_length, source_vocab_size, encoding_embedding_size)`.\n",
    "- Process target data using your `process_decoder_input(target_data, target_vocab_to_int, batch_size)` function.\n",
    "- Decode the encoded input using your `decoding_layer(dec_input, enc_state, target_sequence_length, max_target_sentence_length, rnn_size, num_layers, target_vocab_to_int, target_vocab_size, batch_size, keep_prob, dec_embedding_size)` function."
   ]
  },
  {
   "cell_type": "code",
   "execution_count": 9,
   "metadata": {},
   "outputs": [
    {
     "name": "stdout",
     "output_type": "stream",
     "text": [
      "Tests Passed\n"
     ]
    }
   ],
   "source": [
    "def seq2seq_model(input_data, target_data, keep_prob, batch_size,\n",
    "                  source_sequence_length, target_sequence_length,\n",
    "                  max_target_sentence_length,\n",
    "                  source_vocab_size, target_vocab_size,\n",
    "                  enc_embedding_size, dec_embedding_size,\n",
    "                  rnn_size, num_layers, target_vocab_to_int):\n",
    "    \"\"\"\n",
    "    Build the Sequence-to-Sequence part of the neural network\n",
    "    :param input_data: Input placeholder\n",
    "    :param target_data: Target placeholder\n",
    "    :param keep_prob: Dropout keep probability placeholder\n",
    "    :param batch_size: Batch Size\n",
    "    :param source_sequence_length: Sequence Lengths of source sequences in the batch\n",
    "    :param target_sequence_length: Sequence Lengths of target sequences in the batch\n",
    "    :param source_vocab_size: Source vocabulary size\n",
    "    :param target_vocab_size: Target vocabulary size\n",
    "    :param enc_embedding_size: Decoder embedding size\n",
    "    :param dec_embedding_size: Encoder embedding size\n",
    "    :param rnn_size: RNN Size\n",
    "    :param num_layers: Number of layers\n",
    "    :param target_vocab_to_int: Dictionary to go from the target words to an id\n",
    "    :return: Tuple of (Training BasicDecoderOutput, Inference BasicDecoderOutput)\n",
    "    \"\"\"\n",
    "    # TODO: Implement Function\n",
    "    enc_output, enc_state = encoding_layer(input_data, rnn_size, \n",
    "                                 num_layers, keep_prob,source_sequence_length, \n",
    "                                 source_vocab_size, enc_embedding_size)\n",
    "    \n",
    "    dec_input = process_decoder_input(target_data, target_vocab_to_int, batch_size) \n",
    "    dec_embeddings = tf.Variable(tf.random_uniform([target_vocab_size, dec_embedding_size]))\n",
    "    training_logits, inference_logits  = decoding_layer(dec_input, enc_state, \n",
    "                                                    target_sequence_length, max_target_sentence_length,\n",
    "                                                        rnn_size, num_layers, target_vocab_to_int, \n",
    "                                                        target_vocab_size, batch_size,keep_prob, dec_embedding_size)\n",
    "    \n",
    "    return training_logits, inference_logits\n",
    "\n",
    "\"\"\"\n",
    "DON'T MODIFY ANYTHING IN THIS CELL THAT IS BELOW THIS LINE\n",
    "\"\"\"\n",
    "tests.test_seq2seq_model(seq2seq_model)"
   ]
  },
  {
   "cell_type": "markdown",
   "metadata": {},
   "source": [
    "## Neural Network Training\n",
    "### Hyperparameters\n",
    "Tune the following parameters:\n",
    "\n",
    "- Set `epochs` to the number of epochs.\n",
    "- Set `batch_size` to the batch size.\n",
    "- Set `rnn_size` to the size of the RNNs.\n",
    "- Set `num_layers` to the number of layers.\n",
    "- Set `encoding_embedding_size` to the size of the embedding for the encoder.\n",
    "- Set `decoding_embedding_size` to the size of the embedding for the decoder.\n",
    "- Set `learning_rate` to the learning rate.\n",
    "- Set `keep_probability` to the Dropout keep probability\n",
    "- Set `display_step` to state how many steps between each debug output statement"
   ]
  },
  {
   "cell_type": "code",
   "execution_count": 10,
   "metadata": {
    "collapsed": true
   },
   "outputs": [],
   "source": [
    "# Number of Epochs\n",
    "epochs = 6\n",
    "# Batch Size\n",
    "batch_size = 256\n",
    "# RNN Size\n",
    "rnn_size = 256\n",
    "# Number of Layers\n",
    "num_layers = 2\n",
    "# Embedding Size\n",
    "encoding_embedding_size = 30\n",
    "decoding_embedding_size = 30\n",
    "# Learning Rate\n",
    "learning_rate = 0.005\n",
    "# Dropout Keep Probability\n",
    "keep_probability = 0.5\n",
    "display_step = 20"
   ]
  },
  {
   "cell_type": "markdown",
   "metadata": {},
   "source": [
    "### Build the Graph\n",
    "Build the graph using the neural network you implemented."
   ]
  },
  {
   "cell_type": "code",
   "execution_count": 11,
   "metadata": {
    "collapsed": true
   },
   "outputs": [],
   "source": [
    "\"\"\"\n",
    "DON'T MODIFY ANYTHING IN THIS CELL\n",
    "\"\"\"\n",
    "save_path = 'checkpoints/dev'\n",
    "(source_int_text, target_int_text), (source_vocab_to_int, target_vocab_to_int), _ = helper.load_preprocess()\n",
    "max_target_sentence_length = max([len(sentence) for sentence in source_int_text])\n",
    "\n",
    "train_graph = tf.Graph()\n",
    "with train_graph.as_default():\n",
    "    input_data, targets, lr, keep_prob, target_sequence_length, max_target_sequence_length, source_sequence_length = model_inputs()\n",
    "\n",
    "    #sequence_length = tf.placeholder_with_default(max_target_sentence_length, None, name='sequence_length')\n",
    "    input_shape = tf.shape(input_data)\n",
    "\n",
    "    train_logits, inference_logits = seq2seq_model(tf.reverse(input_data, [-1]),\n",
    "                                                   targets,\n",
    "                                                   keep_prob,\n",
    "                                                   batch_size,\n",
    "                                                   source_sequence_length,\n",
    "                                                   target_sequence_length,\n",
    "                                                   max_target_sequence_length,\n",
    "                                                   len(source_vocab_to_int),\n",
    "                                                   len(target_vocab_to_int),\n",
    "                                                   encoding_embedding_size,\n",
    "                                                   decoding_embedding_size,\n",
    "                                                   rnn_size,\n",
    "                                                   num_layers,\n",
    "                                                   target_vocab_to_int)\n",
    "\n",
    "\n",
    "    training_logits = tf.identity(train_logits.rnn_output, name='logits')\n",
    "    inference_logits = tf.identity(inference_logits.sample_id, name='predictions')\n",
    "\n",
    "    masks = tf.sequence_mask(target_sequence_length, max_target_sequence_length, dtype=tf.float32, name='masks')\n",
    "\n",
    "    with tf.name_scope(\"optimization\"):\n",
    "        # Loss function\n",
    "        cost = tf.contrib.seq2seq.sequence_loss(\n",
    "            training_logits,\n",
    "            targets,\n",
    "            masks)\n",
    "\n",
    "        # Optimizer\n",
    "        optimizer = tf.train.AdamOptimizer(lr)\n",
    "\n",
    "        # Gradient Clipping\n",
    "        gradients = optimizer.compute_gradients(cost)\n",
    "        capped_gradients = [(tf.clip_by_value(grad, -1., 1.), var) for grad, var in gradients if grad is not None]\n",
    "        train_op = optimizer.apply_gradients(capped_gradients)\n"
   ]
  },
  {
   "cell_type": "markdown",
   "metadata": {},
   "source": [
    "Batch and pad the source and target sequences"
   ]
  },
  {
   "cell_type": "code",
   "execution_count": 12,
   "metadata": {
    "collapsed": true
   },
   "outputs": [],
   "source": [
    "\"\"\"\n",
    "DON'T MODIFY ANYTHING IN THIS CELL\n",
    "\"\"\"\n",
    "def pad_sentence_batch(sentence_batch, pad_int):\n",
    "    \"\"\"Pad sentences with <PAD> so that each sentence of a batch has the same length\"\"\"\n",
    "    max_sentence = max([len(sentence) for sentence in sentence_batch])\n",
    "    return [sentence + [pad_int] * (max_sentence - len(sentence)) for sentence in sentence_batch]\n",
    "\n",
    "\n",
    "def get_batches(sources, targets, batch_size, source_pad_int, target_pad_int):\n",
    "    \"\"\"Batch targets, sources, and the lengths of their sentences together\"\"\"\n",
    "    for batch_i in range(0, len(sources)//batch_size):\n",
    "        start_i = batch_i * batch_size\n",
    "\n",
    "        # Slice the right amount for the batch\n",
    "        sources_batch = sources[start_i:start_i + batch_size]\n",
    "        targets_batch = targets[start_i:start_i + batch_size]\n",
    "\n",
    "        # Pad\n",
    "        pad_sources_batch = np.array(pad_sentence_batch(sources_batch, source_pad_int))\n",
    "        pad_targets_batch = np.array(pad_sentence_batch(targets_batch, target_pad_int))\n",
    "\n",
    "        # Need the lengths for the _lengths parameters\n",
    "        pad_targets_lengths = []\n",
    "        for target in pad_targets_batch:\n",
    "            pad_targets_lengths.append(len(target))\n",
    "\n",
    "        pad_source_lengths = []\n",
    "        for source in pad_sources_batch:\n",
    "            pad_source_lengths.append(len(source))\n",
    "\n",
    "        yield pad_sources_batch, pad_targets_batch, pad_source_lengths, pad_targets_lengths\n"
   ]
  },
  {
   "cell_type": "markdown",
   "metadata": {},
   "source": [
    "### Train\n",
    "Train the neural network on the preprocessed data. If you have a hard time getting a good loss, check the forms to see if anyone is having the same problem."
   ]
  },
  {
   "cell_type": "code",
   "execution_count": 13,
   "metadata": {
    "scrolled": true
   },
   "outputs": [
    {
     "name": "stdout",
     "output_type": "stream",
     "text": [
      "Epoch   0 Batch   20/538 - Train Accuracy: 0.3594, Validation Accuracy: 0.3961, Loss: 2.9009\n",
      "Epoch   0 Batch   40/538 - Train Accuracy: 0.4405, Validation Accuracy: 0.4460, Loss: 2.4126\n",
      "Epoch   0 Batch   60/538 - Train Accuracy: 0.4410, Validation Accuracy: 0.4947, Loss: 2.2595\n",
      "Epoch   0 Batch   80/538 - Train Accuracy: 0.4613, Validation Accuracy: 0.5137, Loss: 2.0099\n",
      "Epoch   0 Batch  100/538 - Train Accuracy: 0.4727, Validation Accuracy: 0.5202, Loss: 1.6919\n",
      "Epoch   0 Batch  120/538 - Train Accuracy: 0.5072, Validation Accuracy: 0.5391, Loss: 1.4512\n",
      "Epoch   0 Batch  140/538 - Train Accuracy: 0.5141, Validation Accuracy: 0.5616, Loss: 1.2525\n",
      "Epoch   0 Batch  160/538 - Train Accuracy: 0.5424, Validation Accuracy: 0.5568, Loss: 0.9407\n",
      "Epoch   0 Batch  180/538 - Train Accuracy: 0.5623, Validation Accuracy: 0.5623, Loss: 0.8482\n",
      "Epoch   0 Batch  200/538 - Train Accuracy: 0.5555, Validation Accuracy: 0.5733, Loss: 0.7795\n",
      "Epoch   0 Batch  220/538 - Train Accuracy: 0.5502, Validation Accuracy: 0.5753, Loss: 0.7082\n",
      "Epoch   0 Batch  240/538 - Train Accuracy: 0.5654, Validation Accuracy: 0.5996, Loss: 0.6905\n",
      "Epoch   0 Batch  260/538 - Train Accuracy: 0.6003, Validation Accuracy: 0.6149, Loss: 0.6300\n",
      "Epoch   0 Batch  280/538 - Train Accuracy: 0.6518, Validation Accuracy: 0.6314, Loss: 0.5816\n",
      "Epoch   0 Batch  300/538 - Train Accuracy: 0.6302, Validation Accuracy: 0.6332, Loss: 0.5662\n",
      "Epoch   0 Batch  320/538 - Train Accuracy: 0.6257, Validation Accuracy: 0.6387, Loss: 0.5331\n",
      "Epoch   0 Batch  340/538 - Train Accuracy: 0.5521, Validation Accuracy: 0.5804, Loss: 0.5581\n",
      "Epoch   0 Batch  360/538 - Train Accuracy: 0.6299, Validation Accuracy: 0.6323, Loss: 0.5082\n",
      "Epoch   0 Batch  380/538 - Train Accuracy: 0.6355, Validation Accuracy: 0.6151, Loss: 0.4687\n",
      "Epoch   0 Batch  400/538 - Train Accuracy: 0.6713, Validation Accuracy: 0.6495, Loss: 0.4535\n",
      "Epoch   0 Batch  420/538 - Train Accuracy: 0.6637, Validation Accuracy: 0.6694, Loss: 0.4323\n",
      "Epoch   0 Batch  440/538 - Train Accuracy: 0.6719, Validation Accuracy: 0.6797, Loss: 0.4347\n",
      "Epoch   0 Batch  460/538 - Train Accuracy: 0.6817, Validation Accuracy: 0.6658, Loss: 0.3866\n",
      "Epoch   0 Batch  480/538 - Train Accuracy: 0.6814, Validation Accuracy: 0.6815, Loss: 0.3656\n",
      "Epoch   0 Batch  500/538 - Train Accuracy: 0.7484, Validation Accuracy: 0.7175, Loss: 0.3188\n",
      "Epoch   0 Batch  520/538 - Train Accuracy: 0.7008, Validation Accuracy: 0.7173, Loss: 0.3641\n",
      "Epoch   1 Batch   20/538 - Train Accuracy: 0.7366, Validation Accuracy: 0.7404, Loss: 0.3222\n",
      "Epoch   1 Batch   40/538 - Train Accuracy: 0.7905, Validation Accuracy: 0.7608, Loss: 0.2510\n",
      "Epoch   1 Batch   60/538 - Train Accuracy: 0.7582, Validation Accuracy: 0.7571, Loss: 0.2827\n",
      "Epoch   1 Batch   80/538 - Train Accuracy: 0.7611, Validation Accuracy: 0.7573, Loss: 0.2678\n",
      "Epoch   1 Batch  100/538 - Train Accuracy: 0.8154, Validation Accuracy: 0.8050, Loss: 0.2345\n",
      "Epoch   1 Batch  120/538 - Train Accuracy: 0.7992, Validation Accuracy: 0.7947, Loss: 0.2170\n",
      "Epoch   1 Batch  140/538 - Train Accuracy: 0.8205, Validation Accuracy: 0.8176, Loss: 0.2243\n",
      "Epoch   1 Batch  160/538 - Train Accuracy: 0.8093, Validation Accuracy: 0.8203, Loss: 0.1876\n",
      "Epoch   1 Batch  180/538 - Train Accuracy: 0.8438, Validation Accuracy: 0.8276, Loss: 0.1786\n",
      "Epoch   1 Batch  200/538 - Train Accuracy: 0.8582, Validation Accuracy: 0.8469, Loss: 0.1556\n",
      "Epoch   1 Batch  220/538 - Train Accuracy: 0.8397, Validation Accuracy: 0.8379, Loss: 0.1494\n",
      "Epoch   1 Batch  240/538 - Train Accuracy: 0.8596, Validation Accuracy: 0.8521, Loss: 0.1486\n",
      "Epoch   1 Batch  260/538 - Train Accuracy: 0.8424, Validation Accuracy: 0.8382, Loss: 0.1387\n",
      "Epoch   1 Batch  280/538 - Train Accuracy: 0.8916, Validation Accuracy: 0.8528, Loss: 0.1111\n",
      "Epoch   1 Batch  300/538 - Train Accuracy: 0.8916, Validation Accuracy: 0.8686, Loss: 0.1116\n",
      "Epoch   1 Batch  320/538 - Train Accuracy: 0.8869, Validation Accuracy: 0.8677, Loss: 0.0942\n",
      "Epoch   1 Batch  340/538 - Train Accuracy: 0.9080, Validation Accuracy: 0.8773, Loss: 0.0903\n",
      "Epoch   1 Batch  360/538 - Train Accuracy: 0.9031, Validation Accuracy: 0.8883, Loss: 0.0885\n",
      "Epoch   1 Batch  380/538 - Train Accuracy: 0.9193, Validation Accuracy: 0.9048, Loss: 0.0800\n",
      "Epoch   1 Batch  400/538 - Train Accuracy: 0.9087, Validation Accuracy: 0.8832, Loss: 0.0901\n",
      "Epoch   1 Batch  420/538 - Train Accuracy: 0.9217, Validation Accuracy: 0.8954, Loss: 0.0761\n",
      "Epoch   1 Batch  440/538 - Train Accuracy: 0.8973, Validation Accuracy: 0.9144, Loss: 0.0817\n",
      "Epoch   1 Batch  460/538 - Train Accuracy: 0.8921, Validation Accuracy: 0.9206, Loss: 0.0719\n",
      "Epoch   1 Batch  480/538 - Train Accuracy: 0.9373, Validation Accuracy: 0.9096, Loss: 0.0577\n",
      "Epoch   1 Batch  500/538 - Train Accuracy: 0.9533, Validation Accuracy: 0.9174, Loss: 0.0456\n",
      "Epoch   1 Batch  520/538 - Train Accuracy: 0.9270, Validation Accuracy: 0.9306, Loss: 0.0556\n",
      "Epoch   2 Batch   20/538 - Train Accuracy: 0.9373, Validation Accuracy: 0.9249, Loss: 0.0533\n",
      "Epoch   2 Batch   40/538 - Train Accuracy: 0.9213, Validation Accuracy: 0.9290, Loss: 0.0441\n",
      "Epoch   2 Batch   60/538 - Train Accuracy: 0.9346, Validation Accuracy: 0.9380, Loss: 0.0496\n",
      "Epoch   2 Batch   80/538 - Train Accuracy: 0.9385, Validation Accuracy: 0.9235, Loss: 0.0732\n",
      "Epoch   2 Batch  100/538 - Train Accuracy: 0.9432, Validation Accuracy: 0.9212, Loss: 0.0526\n",
      "Epoch   2 Batch  120/538 - Train Accuracy: 0.9406, Validation Accuracy: 0.9299, Loss: 0.0406\n",
      "Epoch   2 Batch  140/538 - Train Accuracy: 0.9166, Validation Accuracy: 0.9327, Loss: 0.0574\n",
      "Epoch   2 Batch  160/538 - Train Accuracy: 0.9408, Validation Accuracy: 0.9325, Loss: 0.0384\n",
      "Epoch   2 Batch  180/538 - Train Accuracy: 0.9440, Validation Accuracy: 0.9339, Loss: 0.0428\n",
      "Epoch   2 Batch  200/538 - Train Accuracy: 0.9617, Validation Accuracy: 0.9505, Loss: 0.0364\n",
      "Epoch   2 Batch  220/538 - Train Accuracy: 0.9355, Validation Accuracy: 0.9290, Loss: 0.0443\n",
      "Epoch   2 Batch  240/538 - Train Accuracy: 0.9541, Validation Accuracy: 0.9409, Loss: 0.0384\n",
      "Epoch   2 Batch  260/538 - Train Accuracy: 0.9103, Validation Accuracy: 0.9352, Loss: 0.0449\n",
      "Epoch   2 Batch  280/538 - Train Accuracy: 0.9548, Validation Accuracy: 0.9297, Loss: 0.0343\n",
      "Epoch   2 Batch  300/538 - Train Accuracy: 0.9440, Validation Accuracy: 0.9423, Loss: 0.0363\n",
      "Epoch   2 Batch  320/538 - Train Accuracy: 0.9444, Validation Accuracy: 0.9379, Loss: 0.0324\n",
      "Epoch   2 Batch  340/538 - Train Accuracy: 0.9588, Validation Accuracy: 0.9466, Loss: 0.0298\n",
      "Epoch   2 Batch  360/538 - Train Accuracy: 0.9406, Validation Accuracy: 0.9554, Loss: 0.0296\n",
      "Epoch   2 Batch  380/538 - Train Accuracy: 0.9578, Validation Accuracy: 0.9561, Loss: 0.0320\n",
      "Epoch   2 Batch  400/538 - Train Accuracy: 0.9559, Validation Accuracy: 0.9473, Loss: 0.0353\n",
      "Epoch   2 Batch  420/538 - Train Accuracy: 0.9541, Validation Accuracy: 0.9270, Loss: 0.0320\n",
      "Epoch   2 Batch  440/538 - Train Accuracy: 0.9494, Validation Accuracy: 0.9450, Loss: 0.0373\n",
      "Epoch   2 Batch  460/538 - Train Accuracy: 0.9412, Validation Accuracy: 0.9483, Loss: 0.0305\n",
      "Epoch   2 Batch  480/538 - Train Accuracy: 0.9420, Validation Accuracy: 0.9414, Loss: 0.0302\n",
      "Epoch   2 Batch  500/538 - Train Accuracy: 0.9666, Validation Accuracy: 0.9593, Loss: 0.0234\n",
      "Epoch   2 Batch  520/538 - Train Accuracy: 0.9469, Validation Accuracy: 0.9446, Loss: 0.0316\n",
      "Epoch   3 Batch   20/538 - Train Accuracy: 0.9630, Validation Accuracy: 0.9379, Loss: 0.0271\n",
      "Epoch   3 Batch   40/538 - Train Accuracy: 0.9565, Validation Accuracy: 0.9629, Loss: 0.0254\n",
      "Epoch   3 Batch   60/538 - Train Accuracy: 0.9457, Validation Accuracy: 0.9592, Loss: 0.0299\n",
      "Epoch   3 Batch   80/538 - Train Accuracy: 0.9689, Validation Accuracy: 0.9563, Loss: 0.0254\n",
      "Epoch   3 Batch  100/538 - Train Accuracy: 0.9650, Validation Accuracy: 0.9434, Loss: 0.0213\n",
      "Epoch   3 Batch  120/538 - Train Accuracy: 0.9719, Validation Accuracy: 0.9585, Loss: 0.0207\n",
      "Epoch   3 Batch  140/538 - Train Accuracy: 0.9314, Validation Accuracy: 0.9551, Loss: 0.0361\n",
      "Epoch   3 Batch  160/538 - Train Accuracy: 0.9490, Validation Accuracy: 0.9549, Loss: 0.0239\n",
      "Epoch   3 Batch  180/538 - Train Accuracy: 0.9557, Validation Accuracy: 0.9657, Loss: 0.0324\n",
      "Epoch   3 Batch  200/538 - Train Accuracy: 0.9625, Validation Accuracy: 0.9647, Loss: 0.0221\n",
      "Epoch   3 Batch  220/538 - Train Accuracy: 0.9602, Validation Accuracy: 0.9542, Loss: 0.0279\n"
     ]
    },
    {
     "name": "stdout",
     "output_type": "stream",
     "text": [
      "Epoch   3 Batch  240/538 - Train Accuracy: 0.9631, Validation Accuracy: 0.9657, Loss: 0.0215\n",
      "Epoch   3 Batch  260/538 - Train Accuracy: 0.9496, Validation Accuracy: 0.9375, Loss: 0.0296\n",
      "Epoch   3 Batch  280/538 - Train Accuracy: 0.9736, Validation Accuracy: 0.9560, Loss: 0.0187\n",
      "Epoch   3 Batch  300/538 - Train Accuracy: 0.9591, Validation Accuracy: 0.9441, Loss: 0.0253\n",
      "Epoch   3 Batch  320/538 - Train Accuracy: 0.9483, Validation Accuracy: 0.9554, Loss: 0.0214\n",
      "Epoch   3 Batch  340/538 - Train Accuracy: 0.9664, Validation Accuracy: 0.9686, Loss: 0.0215\n",
      "Epoch   3 Batch  360/538 - Train Accuracy: 0.9678, Validation Accuracy: 0.9608, Loss: 0.0172\n",
      "Epoch   3 Batch  380/538 - Train Accuracy: 0.9643, Validation Accuracy: 0.9529, Loss: 0.0196\n",
      "Epoch   3 Batch  400/538 - Train Accuracy: 0.9660, Validation Accuracy: 0.9664, Loss: 0.0261\n",
      "Epoch   3 Batch  420/538 - Train Accuracy: 0.9551, Validation Accuracy: 0.9528, Loss: 0.0249\n",
      "Epoch   3 Batch  440/538 - Train Accuracy: 0.9672, Validation Accuracy: 0.9636, Loss: 0.0238\n",
      "Epoch   3 Batch  460/538 - Train Accuracy: 0.9565, Validation Accuracy: 0.9595, Loss: 0.0223\n",
      "Epoch   3 Batch  480/538 - Train Accuracy: 0.9704, Validation Accuracy: 0.9538, Loss: 0.0179\n",
      "Epoch   3 Batch  500/538 - Train Accuracy: 0.9846, Validation Accuracy: 0.9631, Loss: 0.0140\n",
      "Epoch   3 Batch  520/538 - Train Accuracy: 0.9732, Validation Accuracy: 0.9487, Loss: 0.0227\n",
      "Epoch   4 Batch   20/538 - Train Accuracy: 0.9624, Validation Accuracy: 0.9531, Loss: 0.0241\n",
      "Epoch   4 Batch   40/538 - Train Accuracy: 0.9698, Validation Accuracy: 0.9524, Loss: 0.0192\n",
      "Epoch   4 Batch   60/538 - Train Accuracy: 0.9605, Validation Accuracy: 0.9638, Loss: 0.0202\n",
      "Epoch   4 Batch   80/538 - Train Accuracy: 0.9738, Validation Accuracy: 0.9652, Loss: 0.0185\n",
      "Epoch   4 Batch  100/538 - Train Accuracy: 0.9672, Validation Accuracy: 0.9659, Loss: 0.0181\n",
      "Epoch   4 Batch  120/538 - Train Accuracy: 0.9822, Validation Accuracy: 0.9506, Loss: 0.0145\n",
      "Epoch   4 Batch  140/538 - Train Accuracy: 0.9488, Validation Accuracy: 0.9586, Loss: 0.0276\n",
      "Epoch   4 Batch  160/538 - Train Accuracy: 0.9606, Validation Accuracy: 0.9469, Loss: 0.0206\n",
      "Epoch   4 Batch  180/538 - Train Accuracy: 0.9652, Validation Accuracy: 0.9647, Loss: 0.0231\n",
      "Epoch   4 Batch  200/538 - Train Accuracy: 0.9768, Validation Accuracy: 0.9656, Loss: 0.0179\n",
      "Epoch   4 Batch  220/538 - Train Accuracy: 0.9604, Validation Accuracy: 0.9487, Loss: 0.0219\n",
      "Epoch   4 Batch  240/538 - Train Accuracy: 0.9682, Validation Accuracy: 0.9627, Loss: 0.0202\n",
      "Epoch   4 Batch  260/538 - Train Accuracy: 0.9591, Validation Accuracy: 0.9544, Loss: 0.0222\n",
      "Epoch   4 Batch  280/538 - Train Accuracy: 0.9786, Validation Accuracy: 0.9604, Loss: 0.0160\n",
      "Epoch   4 Batch  300/538 - Train Accuracy: 0.9647, Validation Accuracy: 0.9531, Loss: 0.0228\n",
      "Epoch   4 Batch  320/538 - Train Accuracy: 0.9779, Validation Accuracy: 0.9567, Loss: 0.0159\n",
      "Epoch   4 Batch  340/538 - Train Accuracy: 0.9811, Validation Accuracy: 0.9636, Loss: 0.0151\n",
      "Epoch   4 Batch  360/538 - Train Accuracy: 0.9627, Validation Accuracy: 0.9611, Loss: 0.0155\n",
      "Epoch   4 Batch  380/538 - Train Accuracy: 0.9732, Validation Accuracy: 0.9586, Loss: 0.0159\n",
      "Epoch   4 Batch  400/538 - Train Accuracy: 0.9762, Validation Accuracy: 0.9659, Loss: 0.0190\n",
      "Epoch   4 Batch  420/538 - Train Accuracy: 0.9715, Validation Accuracy: 0.9661, Loss: 0.0195\n",
      "Epoch   4 Batch  440/538 - Train Accuracy: 0.9805, Validation Accuracy: 0.9682, Loss: 0.0182\n",
      "Epoch   4 Batch  460/538 - Train Accuracy: 0.9762, Validation Accuracy: 0.9750, Loss: 0.0163\n",
      "Epoch   4 Batch  480/538 - Train Accuracy: 0.9741, Validation Accuracy: 0.9629, Loss: 0.0162\n",
      "Epoch   4 Batch  500/538 - Train Accuracy: 0.9879, Validation Accuracy: 0.9640, Loss: 0.0114\n",
      "Epoch   4 Batch  520/538 - Train Accuracy: 0.9723, Validation Accuracy: 0.9537, Loss: 0.0225\n",
      "Epoch   5 Batch   20/538 - Train Accuracy: 0.9665, Validation Accuracy: 0.9682, Loss: 0.0193\n",
      "Epoch   5 Batch   40/538 - Train Accuracy: 0.9762, Validation Accuracy: 0.9698, Loss: 0.0142\n",
      "Epoch   5 Batch   60/538 - Train Accuracy: 0.9676, Validation Accuracy: 0.9606, Loss: 0.0180\n",
      "Epoch   5 Batch   80/538 - Train Accuracy: 0.9779, Validation Accuracy: 0.9588, Loss: 0.0116\n",
      "Epoch   5 Batch  100/538 - Train Accuracy: 0.9816, Validation Accuracy: 0.9641, Loss: 0.0139\n",
      "Epoch   5 Batch  120/538 - Train Accuracy: 0.9830, Validation Accuracy: 0.9714, Loss: 0.0104\n",
      "Epoch   5 Batch  140/538 - Train Accuracy: 0.9600, Validation Accuracy: 0.9762, Loss: 0.0202\n",
      "Epoch   5 Batch  160/538 - Train Accuracy: 0.9701, Validation Accuracy: 0.9542, Loss: 0.0145\n",
      "Epoch   5 Batch  180/538 - Train Accuracy: 0.9740, Validation Accuracy: 0.9638, Loss: 0.0160\n",
      "Epoch   5 Batch  200/538 - Train Accuracy: 0.9783, Validation Accuracy: 0.9719, Loss: 0.0135\n",
      "Epoch   5 Batch  220/538 - Train Accuracy: 0.9656, Validation Accuracy: 0.9625, Loss: 0.0178\n",
      "Epoch   5 Batch  240/538 - Train Accuracy: 0.9621, Validation Accuracy: 0.9586, Loss: 0.0172\n",
      "Epoch   5 Batch  260/538 - Train Accuracy: 0.9500, Validation Accuracy: 0.9700, Loss: 0.0232\n",
      "Epoch   5 Batch  280/538 - Train Accuracy: 0.9816, Validation Accuracy: 0.9648, Loss: 0.0158\n",
      "Epoch   5 Batch  300/538 - Train Accuracy: 0.9767, Validation Accuracy: 0.9769, Loss: 0.0188\n",
      "Epoch   5 Batch  320/538 - Train Accuracy: 0.9825, Validation Accuracy: 0.9640, Loss: 0.0130\n",
      "Epoch   5 Batch  340/538 - Train Accuracy: 0.9809, Validation Accuracy: 0.9615, Loss: 0.0149\n",
      "Epoch   5 Batch  360/538 - Train Accuracy: 0.9842, Validation Accuracy: 0.9553, Loss: 0.0142\n",
      "Epoch   5 Batch  380/538 - Train Accuracy: 0.9857, Validation Accuracy: 0.9654, Loss: 0.0125\n",
      "Epoch   5 Batch  400/538 - Train Accuracy: 0.9853, Validation Accuracy: 0.9764, Loss: 0.0167\n",
      "Epoch   5 Batch  420/538 - Train Accuracy: 0.9725, Validation Accuracy: 0.9785, Loss: 0.0208\n",
      "Epoch   5 Batch  440/538 - Train Accuracy: 0.9705, Validation Accuracy: 0.9648, Loss: 0.0193\n",
      "Epoch   5 Batch  460/538 - Train Accuracy: 0.9799, Validation Accuracy: 0.9725, Loss: 0.0149\n",
      "Epoch   5 Batch  480/538 - Train Accuracy: 0.9792, Validation Accuracy: 0.9558, Loss: 0.0150\n",
      "Epoch   5 Batch  500/538 - Train Accuracy: 0.9893, Validation Accuracy: 0.9537, Loss: 0.0105\n",
      "Epoch   5 Batch  520/538 - Train Accuracy: 0.9762, Validation Accuracy: 0.9686, Loss: 0.0170\n",
      "Model Trained and Saved\n"
     ]
    }
   ],
   "source": [
    "\"\"\"\n",
    "DON'T MODIFY ANYTHING IN THIS CELL\n",
    "\"\"\"\n",
    "def get_accuracy(target, logits):\n",
    "    \"\"\"\n",
    "    Calculate accuracy\n",
    "    \"\"\"\n",
    "    max_seq = max(target.shape[1], logits.shape[1])\n",
    "    if max_seq - target.shape[1]:\n",
    "        target = np.pad(\n",
    "            target,\n",
    "            [(0,0),(0,max_seq - target.shape[1])],\n",
    "            'constant')\n",
    "    if max_seq - logits.shape[1]:\n",
    "        logits = np.pad(\n",
    "            logits,\n",
    "            [(0,0),(0,max_seq - logits.shape[1])],\n",
    "            'constant')\n",
    "\n",
    "    return np.mean(np.equal(target, logits))\n",
    "\n",
    "# Split data to training and validation sets\n",
    "train_source = source_int_text[batch_size:]\n",
    "train_target = target_int_text[batch_size:]\n",
    "valid_source = source_int_text[:batch_size]\n",
    "valid_target = target_int_text[:batch_size]\n",
    "(valid_sources_batch, valid_targets_batch, valid_sources_lengths, valid_targets_lengths ) = next(get_batches(valid_source,\n",
    "                                                                                                             valid_target,\n",
    "                                                                                                             batch_size,\n",
    "                                                                                                             source_vocab_to_int['<PAD>'],\n",
    "                                                                                                             target_vocab_to_int['<PAD>']))                                                                                                  \n",
    "with tf.Session(graph=train_graph) as sess:\n",
    "    sess.run(tf.global_variables_initializer())\n",
    "\n",
    "    for epoch_i in range(epochs):\n",
    "        for batch_i, (source_batch, target_batch, sources_lengths, targets_lengths) in enumerate(\n",
    "                get_batches(train_source, train_target, batch_size,\n",
    "                            source_vocab_to_int['<PAD>'],\n",
    "                            target_vocab_to_int['<PAD>'])):\n",
    "\n",
    "            _, loss = sess.run(\n",
    "                [train_op, cost],\n",
    "                {input_data: source_batch,\n",
    "                 targets: target_batch,\n",
    "                 lr: learning_rate,\n",
    "                 target_sequence_length: targets_lengths,\n",
    "                 source_sequence_length: sources_lengths,\n",
    "                 keep_prob: keep_probability})\n",
    "\n",
    "\n",
    "            if batch_i % display_step == 0 and batch_i > 0:\n",
    "\n",
    "\n",
    "                batch_train_logits = sess.run(\n",
    "                    inference_logits,\n",
    "                    {input_data: source_batch,\n",
    "                     source_sequence_length: sources_lengths,\n",
    "                     target_sequence_length: targets_lengths,\n",
    "                     keep_prob: 1.0})\n",
    "\n",
    "\n",
    "                batch_valid_logits = sess.run(\n",
    "                    inference_logits,\n",
    "                    {input_data: valid_sources_batch,\n",
    "                     source_sequence_length: valid_sources_lengths,\n",
    "                     target_sequence_length: valid_targets_lengths,\n",
    "                     keep_prob: 1.0})\n",
    "\n",
    "                train_acc = get_accuracy(target_batch, batch_train_logits)\n",
    "\n",
    "                valid_acc = get_accuracy(valid_targets_batch, batch_valid_logits)\n",
    "\n",
    "                print('Epoch {:>3} Batch {:>4}/{} - Train Accuracy: {:>6.4f}, Validation Accuracy: {:>6.4f}, Loss: {:>6.4f}'\n",
    "                      .format(epoch_i, batch_i, len(source_int_text) // batch_size, train_acc, valid_acc, loss))\n",
    "\n",
    "    # Save Model\n",
    "    saver = tf.train.Saver()\n",
    "    saver.save(sess, save_path)\n",
    "    print('Model Trained and Saved')"
   ]
  },
  {
   "cell_type": "markdown",
   "metadata": {},
   "source": [
    "### Save Parameters\n",
    "Save the `batch_size` and `save_path` parameters for inference."
   ]
  },
  {
   "cell_type": "code",
   "execution_count": 14,
   "metadata": {},
   "outputs": [],
   "source": [
    "\"\"\"\n",
    "DON'T MODIFY ANYTHING IN THIS CELL\n",
    "\"\"\"\n",
    "# Save parameters for checkpoint\n",
    "helper.save_params(save_path)"
   ]
  },
  {
   "cell_type": "markdown",
   "metadata": {},
   "source": [
    "# Checkpoint"
   ]
  },
  {
   "cell_type": "code",
   "execution_count": 22,
   "metadata": {
    "collapsed": true
   },
   "outputs": [],
   "source": [
    "\"\"\"\n",
    "DON'T MODIFY ANYTHING IN THIS CELL\n",
    "\"\"\"\n",
    "import tensorflow as tf\n",
    "import numpy as np\n",
    "import helper\n",
    "import problem_unittests as tests\n",
    "\n",
    "_, (source_vocab_to_int, target_vocab_to_int), (source_int_to_vocab, target_int_to_vocab) = helper.load_preprocess()\n",
    "load_path = helper.load_params()"
   ]
  },
  {
   "cell_type": "markdown",
   "metadata": {},
   "source": [
    "## Sentence to Sequence\n",
    "To feed a sentence into the model for translation, you first need to preprocess it.  Implement the function `sentence_to_seq()` to preprocess new sentences.\n",
    "\n",
    "- Convert the sentence to lowercase\n",
    "- Convert words into ids using `vocab_to_int`\n",
    " - Convert words not in the vocabulary, to the `<UNK>` word id."
   ]
  },
  {
   "cell_type": "code",
   "execution_count": 23,
   "metadata": {},
   "outputs": [
    {
     "name": "stdout",
     "output_type": "stream",
     "text": [
      "Tests Passed\n"
     ]
    }
   ],
   "source": [
    "def sentence_to_seq(sentence, vocab_to_int):\n",
    "    \"\"\"\n",
    "    Convert a sentence to a sequence of ids\n",
    "    :param sentence: String\n",
    "    :param vocab_to_int: Dictionary to go from the words to an id\n",
    "    :return: List of word ids\n",
    "    \"\"\"\n",
    "    # TODO: Implement Function\n",
    "    sentence_lower = sentence.lower()\n",
    "    words = sentence_lower.split(\" \")\n",
    "    word_ids = []\n",
    "    \n",
    "    for word in words:\n",
    "        id = vocab_to_int.get(word)\n",
    "        if id == None:\n",
    "            id = vocab_to_int.get(\"<UNK>\")\n",
    "        word_ids.append(id)\n",
    "    return word_ids\n",
    "    \n",
    "\"\"\"\n",
    "DON'T MODIFY ANYTHING IN THIS CELL THAT IS BELOW THIS LINE\n",
    "\"\"\"\n",
    "tests.test_sentence_to_seq(sentence_to_seq)"
   ]
  },
  {
   "cell_type": "markdown",
   "metadata": {},
   "source": [
    "## Translate\n",
    "This will translate `translate_sentence` from English to French."
   ]
  },
  {
   "cell_type": "code",
   "execution_count": 24,
   "metadata": {},
   "outputs": [
    {
     "name": "stdout",
     "output_type": "stream",
     "text": [
      "INFO:tensorflow:Restoring parameters from checkpoints/dev\n",
      "Input\n",
      "  Word Ids:      [73, 8, 49, 128, 142, 173, 133]\n",
      "  English Words: ['he', 'saw', 'a', 'old', 'yellow', 'truck', '.']\n",
      "\n",
      "Prediction\n",
      "  Word Ids:      [125, 31, 290, 316, 190, 312, 45, 158, 1]\n",
      "  French Words: il a vu un vieux camion blanc . <EOS>\n"
     ]
    }
   ],
   "source": [
    "translate_sentence = 'he saw a old yellow truck .'\n",
    "\n",
    "\n",
    "\"\"\"\n",
    "DON'T MODIFY ANYTHING IN THIS CELL\n",
    "\"\"\"\n",
    "translate_sentence = sentence_to_seq(translate_sentence, source_vocab_to_int)\n",
    "\n",
    "loaded_graph = tf.Graph()\n",
    "with tf.Session(graph=loaded_graph) as sess:\n",
    "    # Load saved model\n",
    "    loader = tf.train.import_meta_graph(load_path + '.meta')\n",
    "    loader.restore(sess, load_path)\n",
    "\n",
    "    input_data = loaded_graph.get_tensor_by_name('input:0')\n",
    "    logits = loaded_graph.get_tensor_by_name('predictions:0')\n",
    "    target_sequence_length = loaded_graph.get_tensor_by_name('target_sequence_length:0')\n",
    "    source_sequence_length = loaded_graph.get_tensor_by_name('source_sequence_length:0')\n",
    "    keep_prob = loaded_graph.get_tensor_by_name('keep_prob:0')\n",
    "\n",
    "    translate_logits = sess.run(logits, {input_data: [translate_sentence]*batch_size,\n",
    "                                         target_sequence_length: [len(translate_sentence)*2]*batch_size,\n",
    "                                         source_sequence_length: [len(translate_sentence)]*batch_size,\n",
    "                                         keep_prob: 1.0})[0]\n",
    "\n",
    "print('Input')\n",
    "print('  Word Ids:      {}'.format([i for i in translate_sentence]))\n",
    "print('  English Words: {}'.format([source_int_to_vocab[i] for i in translate_sentence]))\n",
    "\n",
    "print('\\nPrediction')\n",
    "print('  Word Ids:      {}'.format([i for i in translate_logits]))\n",
    "print('  French Words: {}'.format(\" \".join([target_int_to_vocab[i] for i in translate_logits])))\n"
   ]
  },
  {
   "cell_type": "markdown",
   "metadata": {},
   "source": [
    "## Imperfect Translation\n",
    "You might notice that some sentences translate better than others.  Since the dataset you're using only has a vocabulary of 227 English words of the thousands that you use, you're only going to see good results using these words.  For this project, you don't need a perfect translation. However, if you want to create a better translation model, you'll need better data.\n",
    "\n",
    "You can train on the [WMT10 French-English corpus](http://www.statmt.org/wmt10/training-giga-fren.tar).  This dataset has more vocabulary and richer in topics discussed.  However, this will take you days to train, so make sure you've a GPU and the neural network is performing well on dataset we provided.  Just make sure you play with the WMT10 corpus after you've submitted this project.\n",
    "## Submitting This Project\n",
    "When submitting this project, make sure to run all the cells before saving the notebook. Save the notebook file as \"dlnd_language_translation.ipynb\" and save it as a HTML file under \"File\" -> \"Download as\". Include the \"helper.py\" and \"problem_unittests.py\" files in your submission."
   ]
  }
 ],
 "metadata": {
  "anaconda-cloud": {},
  "kernelspec": {
   "display_name": "Python 3",
   "language": "python",
   "name": "python3"
  },
  "language_info": {
   "codemirror_mode": {
    "name": "ipython",
    "version": 3
   },
   "file_extension": ".py",
   "mimetype": "text/x-python",
   "name": "python",
   "nbconvert_exporter": "python",
   "pygments_lexer": "ipython3",
   "version": "3.6.2"
  }
 },
 "nbformat": 4,
 "nbformat_minor": 1
}
